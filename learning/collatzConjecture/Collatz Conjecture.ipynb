{
 "cells": [
  {
   "cell_type": "markdown",
   "metadata": {},
   "source": [
    "# This is my workthough of the Collatz Conjecture"
   ]
  },
  {
   "cell_type": "code",
   "execution_count": 31,
   "metadata": {},
   "outputs": [],
   "source": [
    "n = 159\n",
    "count = 0"
   ]
  },
  {
   "cell_type": "code",
   "execution_count": 32,
   "metadata": {},
   "outputs": [
    {
     "name": "stdout",
     "output_type": "stream",
     "text": [
      "N: 159\n",
      "N: 478\n",
      "N: 239.0\n",
      "N: 718.0\n",
      "N: 359.0\n",
      "N: 1078.0\n",
      "N: 539.0\n",
      "N: 1618.0\n",
      "N: 809.0\n",
      "N: 2428.0\n",
      "N: 1214.0\n",
      "N: 607.0\n",
      "N: 1822.0\n",
      "N: 911.0\n",
      "N: 2734.0\n",
      "N: 1367.0\n",
      "N: 4102.0\n",
      "N: 2051.0\n",
      "N: 6154.0\n",
      "N: 3077.0\n",
      "N: 9232.0\n",
      "N: 4616.0\n",
      "N: 2308.0\n",
      "N: 1154.0\n",
      "N: 577.0\n",
      "N: 1732.0\n",
      "N: 866.0\n",
      "N: 433.0\n",
      "N: 1300.0\n",
      "N: 650.0\n",
      "N: 325.0\n",
      "N: 976.0\n",
      "N: 488.0\n",
      "N: 244.0\n",
      "N: 122.0\n",
      "N: 61.0\n",
      "N: 184.0\n",
      "N: 92.0\n",
      "N: 46.0\n",
      "N: 23.0\n",
      "N: 70.0\n",
      "N: 35.0\n",
      "N: 106.0\n",
      "N: 53.0\n",
      "N: 160.0\n",
      "N: 80.0\n",
      "N: 40.0\n",
      "N: 20.0\n",
      "N: 10.0\n",
      "N: 5.0\n",
      "N: 16.0\n",
      "N: 8.0\n",
      "N: 4.0\n",
      "N: 2.0\n"
     ]
    }
   ],
   "source": [
    "while (n != 1):\n",
    "    print (\"N:\", n)\n",
    "    if (n % 2 == 0):\n",
    "        n = n/2\n",
    "    else:\n",
    "        n = 3*n + 1\n",
    "\n",
    "    count = count + 1"
   ]
  },
  {
   "cell_type": "code",
   "execution_count": 33,
   "metadata": {},
   "outputs": [
    {
     "name": "stdout",
     "output_type": "stream",
     "text": [
      "done\n",
      "count 54\n"
     ]
    }
   ],
   "source": [
    "print (\"done\")\n",
    "print (\"count\", count)"
   ]
  },
  {
   "cell_type": "code",
   "execution_count": null,
   "metadata": {},
   "outputs": [],
   "source": []
  }
 ],
 "metadata": {
  "kernelspec": {
   "display_name": "Python 3",
   "language": "python",
   "name": "python3"
  },
  "language_info": {
   "codemirror_mode": {
    "name": "ipython",
    "version": 3
   },
   "file_extension": ".py",
   "mimetype": "text/x-python",
   "name": "python",
   "nbconvert_exporter": "python",
   "pygments_lexer": "ipython3",
   "version": "3.6.5"
  }
 },
 "nbformat": 4,
 "nbformat_minor": 2
}
